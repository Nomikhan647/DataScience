{
 "cells": [
  {
   "cell_type": "markdown",
   "id": "74ae4e1c",
   "metadata": {},
   "source": [
    "#Import methods in Python"
   ]
  },
  {
   "cell_type": "code",
   "execution_count": 1,
   "id": "1e8dfdfe",
   "metadata": {},
   "outputs": [],
   "source": [
    "import math #this will import math module to python file"
   ]
  },
  {
   "cell_type": "code",
   "execution_count": 5,
   "id": "7f32e9f8",
   "metadata": {},
   "outputs": [
    {
     "name": "stdout",
     "output_type": "stream",
     "text": [
      "2.0\n"
     ]
    }
   ],
   "source": [
    "A = 4\n",
    "print(math.sqrt(A)) #using sqrt method of math module"
   ]
  },
  {
   "cell_type": "code",
   "execution_count": 9,
   "id": "a7a5940d",
   "metadata": {},
   "outputs": [],
   "source": [
    "from math import sin #to import specific method from module"
   ]
  },
  {
   "cell_type": "code",
   "execution_count": 11,
   "id": "2eeef8f8",
   "metadata": {},
   "outputs": [
    {
     "name": "stdout",
     "output_type": "stream",
     "text": [
      "0.8414709848078965\n"
     ]
    }
   ],
   "source": [
    "A = 1\n",
    "print(sin(A))"
   ]
  },
  {
   "cell_type": "markdown",
   "id": "98d04cd0",
   "metadata": {},
   "source": [
    "#Universal Functions in NumPy"
   ]
  },
  {
   "cell_type": "code",
   "execution_count": 12,
   "id": "8ce5a610",
   "metadata": {},
   "outputs": [],
   "source": [
    "#sqrt function\n",
    "import numpy as np"
   ]
  },
  {
   "cell_type": "code",
   "execution_count": 17,
   "id": "3aa93ac8",
   "metadata": {},
   "outputs": [
    {
     "name": "stdout",
     "output_type": "stream",
     "text": [
      "[2. 3. 4.]\n"
     ]
    }
   ],
   "source": [
    "np_sqrt = np.sqrt([4,9,16]) #use of Numpy sqrt function, will apply the sqrt on the whole array\n",
    "print(np_sqrt)"
   ]
  },
  {
   "cell_type": "code",
   "execution_count": 18,
   "id": "f009e090",
   "metadata": {},
   "outputs": [
    {
     "data": {
      "text/plain": [
       "1.0"
      ]
     },
     "execution_count": 18,
     "metadata": {},
     "output_type": "execute_result"
    }
   ],
   "source": [
    "#use of trigonometric functions\n",
    "np.cos(0)"
   ]
  },
  {
   "cell_type": "code",
   "execution_count": 20,
   "id": "c6859e3d",
   "metadata": {},
   "outputs": [
    {
     "data": {
      "text/plain": [
       "1.0"
      ]
     },
     "execution_count": 20,
     "metadata": {},
     "output_type": "execute_result"
    }
   ],
   "source": [
    "from numpy import pi\n",
    "np.sin(pi/2)"
   ]
  },
  {
   "cell_type": "code",
   "execution_count": 21,
   "id": "907debd8",
   "metadata": {},
   "outputs": [
    {
     "data": {
      "text/plain": [
       "-1.0"
      ]
     },
     "execution_count": 21,
     "metadata": {},
     "output_type": "execute_result"
    }
   ],
   "source": [
    "np.cos(pi)"
   ]
  },
  {
   "cell_type": "code",
   "execution_count": 22,
   "id": "3d5a9ee4",
   "metadata": {},
   "outputs": [
    {
     "data": {
      "text/plain": [
       "array([1., 1., 2.])"
      ]
     },
     "execution_count": 22,
     "metadata": {},
     "output_type": "execute_result"
    }
   ],
   "source": [
    "np.floor([1.5,1.6,2.7]) #returns the largest value of every integer value in the array"
   ]
  },
  {
   "cell_type": "code",
   "execution_count": 24,
   "id": "bb118b0b",
   "metadata": {},
   "outputs": [
    {
     "data": {
      "text/plain": [
       "array([  1.        ,   2.71828183, 148.4131591 ])"
      ]
     },
     "execution_count": 24,
     "metadata": {},
     "output_type": "execute_result"
    }
   ],
   "source": [
    "np.exp([0,1,5]) #performs exponentiation on each element"
   ]
  },
  {
   "cell_type": "markdown",
   "id": "e15fd85f",
   "metadata": {},
   "source": [
    "#SHAPE MANIPULATION"
   ]
  },
  {
   "cell_type": "code",
   "execution_count": 5,
   "id": "8aa70962",
   "metadata": {},
   "outputs": [
    {
     "data": {
      "text/plain": [
       "array([ 10,  15,  54,  78,  32,  23,  56,  47,  58, 696])"
      ]
     },
     "execution_count": 5,
     "metadata": {},
     "output_type": "execute_result"
    }
   ],
   "source": [
    "#FLATTENS\n",
    "import numpy as np\n",
    "new_array = np.array([[10,15,54,78,32], [23,56,47,58,696]])\n",
    "new_array.ravel() #ravel() function is used to flatten the dataset into a single row"
   ]
  },
  {
   "cell_type": "code",
   "execution_count": 12,
   "id": "b1fe15aa",
   "metadata": {},
   "outputs": [
    {
     "data": {
      "text/plain": [
       "array([[ 10,  15],\n",
       "       [ 54,  78],\n",
       "       [ 32,  23],\n",
       "       [ 56,  47],\n",
       "       [ 58, 696]])"
      ]
     },
     "execution_count": 12,
     "metadata": {},
     "output_type": "execute_result"
    }
   ],
   "source": [
    "#RESHAPE\n",
    "new_array.reshape(5,2) #reshape(), it will reshape  the array"
   ]
  },
  {
   "cell_type": "code",
   "execution_count": 14,
   "id": "8a24c0a4",
   "metadata": {},
   "outputs": [
    {
     "data": {
      "text/plain": [
       "array([[ 10,  15,  54,  78,  32],\n",
       "       [ 23,  56,  47,  58, 696]])"
      ]
     },
     "execution_count": 14,
     "metadata": {},
     "output_type": "execute_result"
    }
   ],
   "source": [
    "#RESIZE\n",
    "new_array.resize(2,5) #resize the array again\n",
    "new_array"
   ]
  },
  {
   "cell_type": "code",
   "execution_count": 15,
   "id": "706a9e63",
   "metadata": {},
   "outputs": [
    {
     "data": {
      "text/plain": [
       "[array([[10, 15, 54, 78, 32]]), array([[ 23,  56,  47,  58, 696]])]"
      ]
     },
     "execution_count": 15,
     "metadata": {},
     "output_type": "execute_result"
    }
   ],
   "source": [
    "#SPLIT, HSPLIT\n",
    "np.split(new_array,2) #it will split the array into two arrays"
   ]
  },
  {
   "cell_type": "code",
   "execution_count": 19,
   "id": "74e4abc7",
   "metadata": {},
   "outputs": [
    {
     "data": {
      "text/plain": [
       "array([ 10,  15,  54,  78,  32,  23,  56,  47,  58, 696])"
      ]
     },
     "execution_count": 19,
     "metadata": {},
     "output_type": "execute_result"
    }
   ],
   "source": [
    "#stack\n",
    "array_1 = np.array([10, 15, 54, 78, 32])\n",
    "array_2 = np.array([23, 56, 47, 58, 696])\n",
    "np.hstack((array_1, array_2)) #it will stack the arrays together"
   ]
  },
  {
   "cell_type": "code",
   "execution_count": 20,
   "id": "eb568696",
   "metadata": {},
   "outputs": [],
   "source": [
    "import numpy as np"
   ]
  },
  {
   "cell_type": "code",
   "execution_count": 21,
   "id": "1a804734",
   "metadata": {},
   "outputs": [
    {
     "name": "stdout",
     "output_type": "stream",
     "text": [
      "[1 2 3 4]\n"
     ]
    }
   ],
   "source": [
    "#create a simple numpy ndarray\n",
    "first_numpy_array = np.array([1,2,3,4])\n",
    "print(first_numpy_array)"
   ]
  },
  {
   "cell_type": "code",
   "execution_count": 23,
   "id": "4b42b6c9",
   "metadata": {},
   "outputs": [
    {
     "name": "stdout",
     "output_type": "stream",
     "text": [
      "[[0. 0. 0.]\n",
      " [0. 0. 0.]\n",
      " [0. 0. 0.]]\n"
     ]
    }
   ],
   "source": [
    "#array with zeros\n",
    "zeros_array = np.zeros((3,3))\n",
    "print(zeros_array)"
   ]
  },
  {
   "cell_type": "code",
   "execution_count": 24,
   "id": "066c6c49",
   "metadata": {},
   "outputs": [
    {
     "name": "stdout",
     "output_type": "stream",
     "text": [
      "[[1. 1. 1.]\n",
      " [1. 1. 1.]\n",
      " [1. 1. 1.]]\n"
     ]
    }
   ],
   "source": [
    "#array with ones\n",
    "ones_array = np.ones((3,3))\n",
    "print(ones_array)"
   ]
  },
  {
   "cell_type": "code",
   "execution_count": 32,
   "id": "4d8eeb41",
   "metadata": {},
   "outputs": [
    {
     "data": {
      "text/plain": [
       "array([[0., 0., 0.],\n",
       "       [0., 0., 0.]])"
      ]
     },
     "execution_count": 32,
     "metadata": {},
     "output_type": "execute_result"
    }
   ],
   "source": [
    "#array with empty\n",
    "empty_array = np.empty((2,3))\n",
    "empty_array"
   ]
  },
  {
   "cell_type": "code",
   "execution_count": 35,
   "id": "a1503443",
   "metadata": {},
   "outputs": [
    {
     "name": "stdout",
     "output_type": "stream",
     "text": [
      "[ 0  1  2  3  4  5  6  7  8  9 10 11]\n"
     ]
    }
   ],
   "source": [
    "#array with arrange method\n",
    "arange_array = np.arange(12)\n",
    "print(arange_array)"
   ]
  },
  {
   "cell_type": "code",
   "execution_count": 36,
   "id": "fc932ff8",
   "metadata": {},
   "outputs": [
    {
     "data": {
      "text/plain": [
       "array([[ 0,  1,  2,  3],\n",
       "       [ 4,  5,  6,  7],\n",
       "       [ 8,  9, 10, 11]])"
      ]
     },
     "execution_count": 36,
     "metadata": {},
     "output_type": "execute_result"
    }
   ],
   "source": [
    "#reshape the array\n",
    "arange_array.reshape(3,4)"
   ]
  },
  {
   "cell_type": "code",
   "execution_count": 37,
   "id": "d5db0b4a",
   "metadata": {},
   "outputs": [
    {
     "name": "stdout",
     "output_type": "stream",
     "text": [
      "[1.   2.25 3.5  4.75 6.  ]\n"
     ]
    }
   ],
   "source": [
    "#linespace for linearly (equal) spaced data elements\n",
    "linspace_array = np.linspace(1,6,5) #contain 3 arguments (first number, last number, total NO of equidistant elements)\n",
    "print(linspace_array)"
   ]
  },
  {
   "cell_type": "code",
   "execution_count": 38,
   "id": "7d18111f",
   "metadata": {},
   "outputs": [
    {
     "name": "stdout",
     "output_type": "stream",
     "text": [
      "[ 0  1  2  3  4  5  6  7  8  9 10 11 12 13 14]\n"
     ]
    }
   ],
   "source": [
    "#one dimensional array\n",
    "oneD_array = np.arange(15)\n",
    "print(oneD_array)"
   ]
  },
  {
   "cell_type": "code",
   "execution_count": 39,
   "id": "b5516f81",
   "metadata": {},
   "outputs": [
    {
     "name": "stdout",
     "output_type": "stream",
     "text": [
      "[[ 0  1  2  3  4]\n",
      " [ 5  6  7  8  9]\n",
      " [10 11 12 13 14]]\n"
     ]
    }
   ],
   "source": [
    "#two dimensionl array\n",
    "twoD_array = oneD_array.reshape(3,5)\n",
    "print(twoD_array)"
   ]
  },
  {
   "cell_type": "code",
   "execution_count": 40,
   "id": "446c212a",
   "metadata": {},
   "outputs": [
    {
     "name": "stdout",
     "output_type": "stream",
     "text": [
      "[[[ 0  1  2]\n",
      "  [ 3  4  5]\n",
      "  [ 6  7  8]]\n",
      "\n",
      " [[ 9 10 11]\n",
      "  [12 13 14]\n",
      "  [15 16 17]]\n",
      "\n",
      " [[18 19 20]\n",
      "  [21 22 23]\n",
      "  [24 25 26]]]\n"
     ]
    }
   ],
   "source": [
    "#Three dimensional array\n",
    "ThreeD_array = np.arange(27).reshape(3,3,3)\n",
    "print(ThreeD_array)"
   ]
  },
  {
   "cell_type": "code",
   "execution_count": 1,
   "id": "c878aa2d",
   "metadata": {},
   "outputs": [],
   "source": [
    "import numpy as np"
   ]
  },
  {
   "cell_type": "code",
   "execution_count": 2,
   "id": "7560aae3",
   "metadata": {},
   "outputs": [
    {
     "data": {
      "text/plain": [
       "array(25)"
      ]
     },
     "execution_count": 2,
     "metadata": {},
     "output_type": "execute_result"
    }
   ],
   "source": [
    "#o dimensional array\n",
    "np.array(25)"
   ]
  },
  {
   "cell_type": "code",
   "execution_count": 3,
   "id": "449a59c0",
   "metadata": {},
   "outputs": [
    {
     "data": {
      "text/plain": [
       "array([4, 8, 6, 4])"
      ]
     },
     "execution_count": 3,
     "metadata": {},
     "output_type": "execute_result"
    }
   ],
   "source": [
    "#one Dimensional array\n",
    "np.array([4,8,6,4])"
   ]
  },
  {
   "cell_type": "code",
   "execution_count": 6,
   "id": "4190188f",
   "metadata": {},
   "outputs": [
    {
     "data": {
      "text/plain": [
       "array([[1, 5, 2, 5],\n",
       "       [4, 7, 8, 9]])"
      ]
     },
     "execution_count": 6,
     "metadata": {},
     "output_type": "execute_result"
    }
   ],
   "source": [
    "#two dimensional array\n",
    "TwoD_array = np.array([[1,5,2,5],[4,7,8,9]])\n",
    "TwoD_array"
   ]
  },
  {
   "cell_type": "code",
   "execution_count": 8,
   "id": "120c5cca",
   "metadata": {},
   "outputs": [
    {
     "data": {
      "text/plain": [
       "(2, 4)"
      ]
     },
     "execution_count": 8,
     "metadata": {},
     "output_type": "execute_result"
    }
   ],
   "source": [
    "TwoD_array.shape #shape of array, rows and coloumns"
   ]
  },
  {
   "cell_type": "code",
   "execution_count": 9,
   "id": "bcf3b22c",
   "metadata": {},
   "outputs": [
    {
     "data": {
      "text/plain": [
       "2"
      ]
     },
     "execution_count": 9,
     "metadata": {},
     "output_type": "execute_result"
    }
   ],
   "source": [
    "TwoD_array.ndim #represent dimensions of array"
   ]
  },
  {
   "cell_type": "code",
   "execution_count": null,
   "id": "7dc0cdef",
   "metadata": {},
   "outputs": [],
   "source": []
  }
 ],
 "metadata": {
  "kernelspec": {
   "display_name": "Python 3 (ipykernel)",
   "language": "python",
   "name": "python3"
  },
  "language_info": {
   "codemirror_mode": {
    "name": "ipython",
    "version": 3
   },
   "file_extension": ".py",
   "mimetype": "text/x-python",
   "name": "python",
   "nbconvert_exporter": "python",
   "pygments_lexer": "ipython3",
   "version": "3.11.1"
  }
 },
 "nbformat": 4,
 "nbformat_minor": 5
}
